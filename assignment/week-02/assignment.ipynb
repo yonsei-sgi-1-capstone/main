{
 "cells": [
  {
   "cell_type": "markdown",
   "metadata": {},
   "source": [
    "# 빅데이터 분석 프로그래밍 과제\n",
    "## NBA 슛 결과 예측"
   ]
  },
  {
   "cell_type": "markdown",
   "metadata": {},
   "source": [
    "### 1. 데이터 로딩"
   ]
  },
  {
   "cell_type": "code",
   "execution_count": null,
   "metadata": {},
   "outputs": [],
   "source": [
    "import pandas as pd"
   ]
  },
  {
   "cell_type": "code",
   "execution_count": null,
   "metadata": {},
   "outputs": [],
   "source": [
    "train_df = pd.read_csv(\"NBA_TRAIN.csv\")"
   ]
  },
  {
   "cell_type": "markdown",
   "metadata": {},
   "source": [
    "### 2. 데이터 분석"
   ]
  },
  {
   "cell_type": "code",
   "execution_count": null,
   "metadata": {},
   "outputs": [],
   "source": [
    "train_df.head()"
   ]
  },
  {
   "cell_type": "code",
   "execution_count": null,
   "metadata": {
    "scrolled": true
   },
   "outputs": [],
   "source": [
    "train_df.info()"
   ]
  },
  {
   "cell_type": "code",
   "execution_count": null,
   "metadata": {},
   "outputs": [],
   "source": [
    "train_df.describe()"
   ]
  },
  {
   "cell_type": "code",
   "execution_count": null,
   "metadata": {},
   "outputs": [],
   "source": [
    "for c in train_df.columns:\n",
    "    if train_df[c].dtype==\"object\":\n",
    "        print (\"---- %s ---\" % c)\n",
    "        print (train_df[c].value_counts())"
   ]
  },
  {
   "cell_type": "code",
   "execution_count": null,
   "metadata": {
    "scrolled": false
   },
   "outputs": [],
   "source": [
    "train_df.columns"
   ]
  },
  {
   "cell_type": "markdown",
   "metadata": {},
   "source": [
    "### 3. 데이터 전처리"
   ]
  },
  {
   "cell_type": "code",
   "execution_count": null,
   "metadata": {},
   "outputs": [],
   "source": [
    "\n",
    "def time_converter(time):\n",
    "    m,s = time.split(\":\")\n",
    "    return int(m)*60+int(s)\n",
    "\n",
    "def get_organized_df(df):\n",
    "    cols = ['self previous shot', 'player position', 'home game', 'location x',\n",
    "       'opponent previous shot', 'shot type', 'points',\n",
    "        'location y', 'time', 'time from last shot', 'quarter']\n",
    "    if 'current shot outcome' in df.columns:\n",
    "        cols.append('current shot outcome')\n",
    "    new_df = df[cols]\n",
    "    \n",
    "    rename_dict = {\n",
    "    'self previous shot':'SPS', \n",
    "    'player position':'PP', \n",
    "    'home game':'HG', \n",
    "    'location x':'loc_x',\n",
    "    'opponent previous shot':'OPS', \n",
    "    'shot type':'ST', \n",
    "    'location y':'loc_y', \n",
    "    'time from last shot':'TLS'}\n",
    "    if 'current shot outcome' in df.columns:\n",
    "        rename_dict['current shot outcome']='CSO'\n",
    "    #컬럼 명을 짧게 변경\n",
    "    new_df = new_df.rename(columns=rename_dict)\n",
    "    \n",
    "    #텍스트로 된 값을 숫자로 변경\n",
    "    new_df.loc[new_df['SPS']==\"SCORED\",'SPS'] = 1\n",
    "    new_df.loc[new_df['SPS']==\"MISSED\",'SPS'] = 0\n",
    "    new_df.loc[new_df['OPS']==\"BLOCKED\",'OPS'] = 2\n",
    "    new_df.loc[new_df['OPS']==\"SCORED\",'OPS'] = 1\n",
    "    new_df.loc[new_df['OPS']==\"MISSED\",'OPS'] = 0\n",
    "    if 'current shot outcome' in df.columns:\n",
    "        new_df.loc[new_df['CSO']==\"SCORED\",'CSO'] = 1\n",
    "        new_df.loc[new_df['CSO']==\"MISSED\",'CSO'] = 0\n",
    "    new_df.loc[new_df['HG']==\"Yes\",'HG'] = 1\n",
    "    new_df.loc[new_df['HG']==\"No\",'HG'] = 0\n",
    "    new_df.loc[new_df['PP']==\"PG\",'PP'] = 0\n",
    "    new_df.loc[new_df['PP']==\"SG\",'PP'] = 1\n",
    "    new_df.loc[new_df['PP']==\"SF\",'PP'] = 2\n",
    "    new_df.loc[new_df['PP']==\"PF\",'PP'] = 3\n",
    "    new_df.loc[new_df['PP']==\"C\",'PP'] = 4\n",
    "    new_df.loc[new_df['PP']==\"F\",'PP'] = 5\n",
    "    new_df.loc[new_df['PP']==\"G\",'PP'] = 6\n",
    "    \n",
    "    #분:초 형태로 된 값을 초로 변경\n",
    "    new_df['time'] = new_df['time'].apply(time_converter)\n",
    "    \n",
    "    \n",
    "    return new_df"
   ]
  },
  {
   "cell_type": "code",
   "execution_count": null,
   "metadata": {},
   "outputs": [],
   "source": [
    "# 위에서 정의한 함수를 적용해서 데이터 전처리\n",
    "new_df = get_organized_df(train_df)"
   ]
  },
  {
   "cell_type": "code",
   "execution_count": null,
   "metadata": {
    "scrolled": true
   },
   "outputs": [],
   "source": [
    "new_df.head()"
   ]
  },
  {
   "cell_type": "code",
   "execution_count": null,
   "metadata": {},
   "outputs": [],
   "source": [
    "new_df.info()"
   ]
  },
  {
   "cell_type": "code",
   "execution_count": null,
   "metadata": {
    "scrolled": true
   },
   "outputs": [],
   "source": [
    "#결측값 제거\n",
    "new_df = new_df.dropna()\n",
    "new_df.info()"
   ]
  },
  {
   "cell_type": "markdown",
   "metadata": {},
   "source": [
    "### 4. 훈련 및 검증"
   ]
  },
  {
   "cell_type": "code",
   "execution_count": null,
   "metadata": {},
   "outputs": [],
   "source": [
    "#데이터 수 선택\n",
    "num_of_row = 80000\n",
    "#Feature 선택\n",
    "chosen_feature = ['PP','HG','OPS','points','time','TLS','loc_x','loc_y']\n",
    "X = new_df[chosen_feature].to_numpy()[:num_of_row]\n",
    "#클래스 선택\n",
    "y = new_df['CSO'].to_numpy()[:num_of_row]"
   ]
  },
  {
   "cell_type": "code",
   "execution_count": null,
   "metadata": {},
   "outputs": [],
   "source": [
    "X"
   ]
  },
  {
   "cell_type": "code",
   "execution_count": null,
   "metadata": {},
   "outputs": [],
   "source": [
    "from sklearn.metrics import accuracy_score, log_loss\n",
    "from sklearn.tree import DecisionTreeClassifier\n",
    "from sklearn.model_selection import train_test_split\n"
   ]
  },
  {
   "cell_type": "code",
   "execution_count": null,
   "metadata": {
    "scrolled": true
   },
   "outputs": [],
   "source": [
    "y=y.astype('int')\n",
    "#학습/테스트 용으로 데이터 분리\n",
    "X_train, X_test, y_train, y_test = train_test_split(X, y, test_size=0.33, random_state=42)\n",
    "\n",
    "#Decision Tree Classifier적용\n",
    "clf = DecisionTreeClassifier()\n",
    "clf.fit(X_train, y_train)\n",
    "\n",
    "name = clf.__class__.__name__\n",
    "print(name)\n",
    "print('****Results****')\n",
    "train_predictions = clf.predict(X_test)\n",
    "acc = accuracy_score(y_test, train_predictions)\n",
    "print(\"Accuracy: {:.4%}\".format(acc))"
   ]
  },
  {
   "cell_type": "markdown",
   "metadata": {},
   "source": [
    "### 5. 예측"
   ]
  },
  {
   "cell_type": "code",
   "execution_count": null,
   "metadata": {},
   "outputs": [],
   "source": [
    "#예측할 데이터 불러오기\n",
    "test_df = pd.read_csv(\"NBA_TEST.csv\")"
   ]
  },
  {
   "cell_type": "code",
   "execution_count": null,
   "metadata": {},
   "outputs": [],
   "source": [
    "#마찬가지로 전처리 적용\n",
    "new_df2 = get_organized_df(test_df)\n",
    "new_df2.head()"
   ]
  },
  {
   "cell_type": "code",
   "execution_count": null,
   "metadata": {},
   "outputs": [],
   "source": [
    "# 결측값 채우기\n",
    "new_df2.fillna(0,inplace=True)"
   ]
  },
  {
   "cell_type": "code",
   "execution_count": null,
   "metadata": {},
   "outputs": [],
   "source": [
    "# Feature 선택\n",
    "X = new_df2[chosen_feature].to_numpy()\n"
   ]
  },
  {
   "cell_type": "code",
   "execution_count": null,
   "metadata": {},
   "outputs": [],
   "source": [
    "X"
   ]
  },
  {
   "cell_type": "code",
   "execution_count": null,
   "metadata": {},
   "outputs": [],
   "source": [
    "# 미리 훈련된 model(clf)를 갖고 새로 들어온 데이터에 대해 예측\n",
    "result = clf.predict(X)\n"
   ]
  },
  {
   "cell_type": "code",
   "execution_count": null,
   "metadata": {},
   "outputs": [],
   "source": [
    "result"
   ]
  },
  {
   "cell_type": "code",
   "execution_count": null,
   "metadata": {},
   "outputs": [],
   "source": [
    "# 결과 값과 id 값 매칭\n",
    "df = pd.DataFrame(result,columns=[\"current shot outcome\"])\n",
    "df['id'] = test_df['id']\n",
    "df.loc[df['current shot outcome']==1,'current shot outcome'] = \"SCORED\"\n",
    "df.loc[df['current shot outcome']==0,'current shot outcome'] = \"MISSED\""
   ]
  },
  {
   "cell_type": "code",
   "execution_count": null,
   "metadata": {},
   "outputs": [],
   "source": [
    "# 제출할 파일 생성\n",
    "df.to_csv(\"submission.csv\",index=False,columns=['id','current shot outcome'])"
   ]
  },
  {
   "cell_type": "code",
   "execution_count": null,
   "metadata": {},
   "outputs": [],
   "source": []
  },
  {
   "cell_type": "code",
   "execution_count": null,
   "metadata": {},
   "outputs": [],
   "source": []
  }
 ],
 "metadata": {
  "kernelspec": {
   "display_name": "Python 3",
   "language": "python",
   "name": "python3"
  },
  "language_info": {
   "codemirror_mode": {
    "name": "ipython",
    "version": 3
   },
   "file_extension": ".py",
   "mimetype": "text/x-python",
   "name": "python",
   "nbconvert_exporter": "python",
   "pygments_lexer": "ipython3",
   "version": "3.7.6"
  }
 },
 "nbformat": 4,
 "nbformat_minor": 4
}
