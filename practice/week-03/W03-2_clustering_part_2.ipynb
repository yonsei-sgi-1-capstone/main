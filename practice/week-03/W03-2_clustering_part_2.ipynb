{
 "cells": [
  {
   "cell_type": "markdown",
   "metadata": {},
   "source": [
    "# BIG DATA ANALYTICS: Clustering using Scikit-learn\n",
    "- Scikit learn 라이브러리를 활용한 K-means, DBSCAN 알고리즘을 활용해 보겠습니다.\n",
    "---"
   ]
  },
  {
   "cell_type": "code",
   "execution_count": null,
   "metadata": {
    "scrolled": true
   },
   "outputs": [],
   "source": [
    "import sys\n",
    "!{sys.executable} -m pip install sklearn"
   ]
  },
  {
   "cell_type": "code",
   "execution_count": null,
   "metadata": {},
   "outputs": [],
   "source": [
    "from sklearn.cluster import KMeans\n",
    "import numpy as np\n",
    "import matplotlib.pyplot as plt\n",
    "%matplotlib inline\n"
   ]
  },
  {
   "cell_type": "markdown",
   "metadata": {},
   "source": [
    "# 1. K-means 클러스터링"
   ]
  },
  {
   "cell_type": "markdown",
   "metadata": {},
   "source": [
    "## 1-1. 1 차원 클러스터링\n",
    "차원은 feature의 갯수를 의미"
   ]
  },
  {
   "cell_type": "code",
   "execution_count": null,
   "metadata": {},
   "outputs": [],
   "source": [
    "X = np.array([[1], [2], [4], [8], [9], [11]])"
   ]
  },
  {
   "cell_type": "code",
   "execution_count": null,
   "metadata": {},
   "outputs": [],
   "source": [
    "plt.scatter(X[:],np.zeros(X.shape[0]), label='True Position')"
   ]
  },
  {
   "cell_type": "code",
   "execution_count": null,
   "metadata": {},
   "outputs": [],
   "source": [
    "kmeans = KMeans(n_clusters=2, random_state=0).fit(X)\n",
    "print(\"Labels: \",kmeans.labels_)\n",
    "print(\"Predicted Labels: \",kmeans.predict([[10], [1.5]]))\n",
    "print(\"Centroids: \\n\", kmeans.cluster_centers_)"
   ]
  },
  {
   "cell_type": "code",
   "execution_count": null,
   "metadata": {},
   "outputs": [],
   "source": [
    "plt.scatter(X[:],np.zeros(X.shape[0]), c=kmeans.labels_, cmap='rainbow')\n",
    "plt.scatter(kmeans.cluster_centers_[:],np.zeros(kmeans.cluster_centers_.shape[0]), color='black')"
   ]
  },
  {
   "cell_type": "markdown",
   "metadata": {},
   "source": [
    "## 1-2. 2 차원 클러스터링"
   ]
  },
  {
   "cell_type": "code",
   "execution_count": null,
   "metadata": {},
   "outputs": [],
   "source": [
    "X = np.array([[1, 2], [1.5, 4], [2, 0],\n",
    "              [8, 2], [8.5, 4], [10, 0]])\n",
    "kmeans = KMeans(n_clusters=2, random_state=0).fit(X)\n",
    "print(\"Labels: \",kmeans.labels_)\n",
    "print(\"Predicted Labels: \",kmeans.predict([[0, 0], [12, 3]]))\n",
    "print(\"Centroids: \\n\", kmeans.cluster_centers_)"
   ]
  },
  {
   "cell_type": "code",
   "execution_count": null,
   "metadata": {},
   "outputs": [],
   "source": [
    "plt.scatter(X[:,0],X[:,1], label='True Position',s=50)"
   ]
  },
  {
   "cell_type": "code",
   "execution_count": null,
   "metadata": {},
   "outputs": [],
   "source": [
    "plt.scatter(X[:,0],X[:,1], c=kmeans.labels_, cmap='rainbow' , s=50)\n",
    "plt.scatter(kmeans.cluster_centers_[:,0] ,kmeans.cluster_centers_[:,1], color='black',s=50)"
   ]
  },
  {
   "cell_type": "markdown",
   "metadata": {},
   "source": [
    "## 1-3. 3 차원 클러스터링"
   ]
  },
  {
   "cell_type": "code",
   "execution_count": null,
   "metadata": {},
   "outputs": [],
   "source": [
    "from mpl_toolkits.mplot3d import axes3d, Axes3D "
   ]
  },
  {
   "cell_type": "code",
   "execution_count": null,
   "metadata": {},
   "outputs": [],
   "source": [
    "X = np.array([[1, 2, 1], [1,3,1.5], [1.5, 2.5, 1.8],\n",
    "              [10, 10.4, 13], [10.5,13.2,14], [12, 14.4, 15],\n",
    "              [20, 20.1, 22], [19,24,18], [23, 23, 25],\n",
    "              ])\n",
    "kmeans = KMeans(n_clusters=3, random_state=0).fit(X)\n",
    "print(\"Labels: \",kmeans.labels_)\n",
    "print(\"Predicted Labels: \",kmeans.predict([[4, 4, 4], [12, 12, 12], [25,25,25]]))\n",
    "print(\"Centroids: \\n\", kmeans.cluster_centers_)"
   ]
  },
  {
   "cell_type": "code",
   "execution_count": null,
   "metadata": {},
   "outputs": [],
   "source": [
    "plt.figure(figsize=(10,10))\n",
    "ax = plt.axes(projection = '3d')\n",
    "ax.scatter(X[:,0],X[:,1],X[:,2], c=kmeans.labels_ , cmap='rainbow', s=100)\n",
    "ax.scatter(kmeans.cluster_centers_[:,0] ,kmeans.cluster_centers_[:,1],kmeans.cluster_centers_[:,2], color='black',s=100)\n",
    "\n",
    "ax.legend()"
   ]
  },
  {
   "cell_type": "markdown",
   "metadata": {},
   "source": [
    "# 2. 밀도 기반 클러스터링 (DBSCAN)"
   ]
  },
  {
   "cell_type": "code",
   "execution_count": null,
   "metadata": {},
   "outputs": [],
   "source": [
    "from sklearn.datasets import make_circles, make_moons\n",
    "n_samples = 1000\n",
    "np.random.seed(2)\n",
    "X1, y1 = make_circles(n_samples=n_samples, factor=.5, noise=.09)\n",
    "X2, y2 = make_moons(n_samples=n_samples, noise=.1)\n"
   ]
  },
  {
   "cell_type": "code",
   "execution_count": null,
   "metadata": {},
   "outputs": [],
   "source": [
    "X1.shape"
   ]
  },
  {
   "cell_type": "code",
   "execution_count": null,
   "metadata": {
    "scrolled": true
   },
   "outputs": [],
   "source": [
    "fig, (ax1, ax2) = plt.subplots(1, 2, figsize=(10,5))\n",
    "ax1.scatter(X1[:,0], X1[:,1])\n",
    "ax2.scatter(X2[:,0], X2[:,1])"
   ]
  },
  {
   "cell_type": "code",
   "execution_count": null,
   "metadata": {},
   "outputs": [],
   "source": [
    "kmeans1 = KMeans(n_clusters=2, random_state=0).fit(X1)\n",
    "kmeans2 = KMeans(n_clusters=2, random_state=0).fit(X2)\n",
    "fig, (ax1, ax2) = plt.subplots(1, 2, figsize=(10,5))\n",
    "ax1.scatter(X1[:,0], X1[:,1],c=kmeans1.labels_, cmap='rainbow' , s=10)\n",
    "ax1.scatter(kmeans1.cluster_centers_[:,0] ,kmeans1.cluster_centers_[:,1], color='black',s=50)\n",
    "ax2.scatter(X2[:,0], X2[:,1],c=kmeans1.labels_, cmap='rainbow' , s=10)\n",
    "ax2.scatter(kmeans2.cluster_centers_[:,0] ,kmeans2.cluster_centers_[:,1], color='black',s=50)"
   ]
  },
  {
   "cell_type": "code",
   "execution_count": null,
   "metadata": {},
   "outputs": [],
   "source": [
    "from sklearn.cluster import DBSCAN\n",
    "dbscans1 = DBSCAN(eps=0.1).fit(X1)\n",
    "dbscans2 = DBSCAN(eps=0.1).fit(X2)\n",
    "\n",
    "fig, (ax1, ax2) = plt.subplots(1, 2, figsize=(10,5))\n",
    "ax1.scatter(X1[:,0], X1[:,1],c=dbscans1.labels_, cmap='rainbow' , s=10)\n",
    "ax2.scatter(X2[:,0], X2[:,1],c=dbscans2.labels_, cmap='rainbow' , s=10)"
   ]
  }
 ],
 "metadata": {
  "kernelspec": {
   "display_name": "Python 3",
   "language": "python",
   "name": "python3"
  },
  "language_info": {
   "codemirror_mode": {
    "name": "ipython",
    "version": 3
   },
   "file_extension": ".py",
   "mimetype": "text/x-python",
   "name": "python",
   "nbconvert_exporter": "python",
   "pygments_lexer": "ipython3",
   "version": "3.8.3"
  }
 },
 "nbformat": 4,
 "nbformat_minor": 2
}
