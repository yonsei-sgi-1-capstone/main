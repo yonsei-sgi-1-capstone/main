{
 "cells": [
  {
   "cell_type": "code",
   "execution_count": null,
   "metadata": {},
   "outputs": [],
   "source": [
    "import pandas as pd"
   ]
  },
  {
   "cell_type": "code",
   "execution_count": null,
   "metadata": {},
   "outputs": [],
   "source": [
    "df = pd.read_csv(\"data/credit_card.csv\")"
   ]
  },
  {
   "cell_type": "markdown",
   "metadata": {},
   "source": [
    "## 1. 데이터 훑어 보기"
   ]
  },
  {
   "cell_type": "markdown",
   "metadata": {},
   "source": [
    "### 시나리오\n",
    "소비자 신용 카드 포트폴리오의 한 사업 관리자가 고객 이탈 문제에 직면해 있습니다. 데이터를 분석하여 그 원인을 파악하고, 이를 활용하여 하차할 가능성이 높은 고객을 예측하고자 합니다.\n",
    "\n",
    "### 특성 설명\n",
    "\n",
    "- CLIENTNUM\n",
    "    - 회원번호\n",
    "- Attrition_Flag (Target)\n",
    "    - 향후 6개월 내 탈퇴를 하는 여부\n",
    "- Customer_Age\n",
    "    - 카드 소유 나이\n",
    "- Gender\n",
    "    - 카드 소유자 성별\n",
    "- Dependent_count\n",
    "    - 계좌 보유자에게 재정적으로 의존하는 사람의 수\n",
    "- Education_Level\n",
    "    - 학업수준 (ex - high school, college grad etc.)\n",
    "- Marital_Status\n",
    "    - 결혼상태 (Single, Married, Divorced, Unknown)\n",
    "- Income_Category\n",
    "    - 연봉 구간\n",
    "- Card_Category\n",
    "    - 카드 종류 (Blue, Silver,Gold Platinum)\n",
    "- Months_on_book\n",
    "    - 계좌 소유자가 대출 기관에 계좌를 개설한 후 개월 수\n",
    "- Total_Relationship_Count\n",
    "    - 고객이 보유한 총 제품 수입니다. 계좌 소유자가 은행과 맺은 총 관계(예: 소매 은행, 모기지, 자산 관리 등)\n",
    "- Months_Inactive_12_mon\n",
    "    - 지난 12개월 동안 비활성화된 총 개월 수\n",
    "- Contacts_Count_12_mon\n",
    "    - 지난 12개월 동안 계정 소유자가 콜센터에 전화한 횟수\n",
    "- Credit_Limit\n",
    "    - 카드 한도\n",
    "- Total_Revolving_Bal\n",
    "    - Total amount as revolving balance\n",
    "- Avg_Open_To_Buy\n",
    "    - 사용 가능 금액(한도-사용금액) 12개월 평균\n",
    "- Total_Amt_Chng_Q4_Q1\n",
    "    - 거래 금액 변경(Q1 대비 Q4)\n",
    "- Total_Trans_Amt\n",
    "    - 총 거래 금액(지난 12개월)\n",
    "- Total_Trans_Ct\n",
    "    - 총 거래 건수(지난 12개월)\n",
    "- Total_Ct_Chng_Q4_Q1\n",
    "    - 거래 수의 변화(Q1 대비 Q4)\n",
    "- Avg_Utilization_Ratio\n",
    "    - 평균 카드 이용률"
   ]
  },
  {
   "cell_type": "code",
   "execution_count": null,
   "metadata": {},
   "outputs": [],
   "source": [
    "pd.set_option('display.max_columns', None)\n",
    "\n",
    "df.head()"
   ]
  },
  {
   "cell_type": "code",
   "execution_count": null,
   "metadata": {},
   "outputs": [],
   "source": [
    "df.info()"
   ]
  },
  {
   "cell_type": "code",
   "execution_count": null,
   "metadata": {},
   "outputs": [],
   "source": [
    "df.describe()"
   ]
  },
  {
   "cell_type": "code",
   "execution_count": null,
   "metadata": {},
   "outputs": [],
   "source": [
    "for col in df.columns:\n",
    "    if df[col].dtype==\"object\":\n",
    "        print(\"=\"*50)\n",
    "        print(df[col].value_counts())\n",
    "        print(\"=\"*50)\n",
    "        print(\"\\n\")"
   ]
  },
  {
   "cell_type": "markdown",
   "metadata": {},
   "source": [
    "## 2. 시각화"
   ]
  },
  {
   "cell_type": "code",
   "execution_count": null,
   "metadata": {},
   "outputs": [],
   "source": [
    "import seaborn as sns\n",
    "import matplotlib.pyplot as plt\n"
   ]
  },
  {
   "cell_type": "code",
   "execution_count": null,
   "metadata": {},
   "outputs": [],
   "source": [
    "%matplotlib inline\n",
    "import matplotlib.pyplot as plt\n",
    "df.hist(bins=50, figsize=(20,15))\n",
    "plt.show()"
   ]
  },
  {
   "cell_type": "markdown",
   "metadata": {},
   "source": [
    "### 계약 해지 여부의 고객 비율 확인"
   ]
  },
  {
   "cell_type": "code",
   "execution_count": null,
   "metadata": {},
   "outputs": [],
   "source": [
    "import seaborn as sns\n",
    "print(df['Attrition_Flag'].value_counts())\n",
    "ax = sns.countplot(x=\"Attrition_Flag\", data=df)"
   ]
  },
  {
   "cell_type": "markdown",
   "metadata": {},
   "source": [
    "### 전체 카테고리컬 속성에 대한 비율확인"
   ]
  },
  {
   "cell_type": "code",
   "execution_count": null,
   "metadata": {
    "scrolled": false
   },
   "outputs": [],
   "source": [
    "cnt = 0\n",
    "\n",
    "fig, axes = plt.subplots(nrows=3, ncols=2,figsize=(16,9))\n",
    "for col in df.columns:\n",
    "    if df[col].dtype==\"object\":\n",
    "        ax = sns.countplot(x=col, data=df, ax=axes[cnt%3,cnt%2])\n",
    "        cnt+=1\n",
    "fig.tight_layout()"
   ]
  },
  {
   "cell_type": "markdown",
   "metadata": {},
   "source": [
    "### Numerical 속성에 대한 이상치 확인"
   ]
  },
  {
   "cell_type": "code",
   "execution_count": null,
   "metadata": {
    "scrolled": false
   },
   "outputs": [],
   "source": [
    "cnt = 0\n",
    "\n",
    "fig, axes = plt.subplots(nrows=5, ncols=3,figsize=(16,15))\n",
    "for col in df.columns:\n",
    "    if df[col].dtype==\"int64\" or df[col].dtype==\"float64\" :\n",
    "        df[col].plot(kind='box', ax=axes[cnt%5,cnt%3])\n",
    "        cnt+=1\n",
    "fig.tight_layout()\n",
    "\n",
    "\n",
    "\n"
   ]
  },
  {
   "cell_type": "markdown",
   "metadata": {},
   "source": [
    "## 계약해지 여부에 따른 Numerical 속성들의 평균"
   ]
  },
  {
   "cell_type": "code",
   "execution_count": null,
   "metadata": {
    "scrolled": false
   },
   "outputs": [],
   "source": [
    "cnt = 0\n",
    "for col in df.columns:\n",
    "    if df[col].dtype!=\"object\" and col != 'AF':\n",
    "        plt.figure(cnt)\n",
    "        df.groupby(['Attrition_Flag'])[col].mean().plot(kind='bar', title=col)\n",
    "        cnt+=1\n"
   ]
  },
  {
   "cell_type": "markdown",
   "metadata": {},
   "source": [
    "## 계약해지 여부에 따른 Categorical 속성들 비교"
   ]
  },
  {
   "cell_type": "code",
   "execution_count": null,
   "metadata": {
    "scrolled": false
   },
   "outputs": [],
   "source": [
    "\n",
    "cnt = 0\n",
    "for col in df.columns:\n",
    "    if df[col].dtype==\"object\":\n",
    "        plt.figure(cnt)\n",
    "        df.groupby(['Attrition_Flag',col])[col].count().unstack().plot(kind='bar', title=col)\n",
    "        cnt+=1\n",
    "    "
   ]
  },
  {
   "cell_type": "code",
   "execution_count": null,
   "metadata": {},
   "outputs": [],
   "source": [
    "import numpy as np\n",
    "df['AF'] = df['Attrition_Flag']==\"Existing Customer\"\n",
    "df['AF'] = df['Attrition_Flag']==\"Attrited Customer\"\n",
    "\n",
    "corr = df.corr()\n",
    "print(corr['AF'])\n",
    "sns.heatmap(corr)\n",
    "plt.show()"
   ]
  },
  {
   "cell_type": "markdown",
   "metadata": {},
   "source": [
    "## 체크리스트"
   ]
  },
  {
   "cell_type": "markdown",
   "metadata": {},
   "source": [
    "- 전체 데이터(row)는 몇 개인가요?\n",
    "- 전체 특성(column)은 몇 개인가요?\n",
    "- Target(Label) 특성의 비율은 어떻게 되나요?\n",
    "- Categorical 특성은 어떻게 되나요?\n",
    "- Numeircal 특성은 어떻게 되나요?\n",
    "- 결측값이 존재하나요? 존재한다면, 존재하는 특성은 몇개나 될까요?\n",
    "- 이상치(outlier)가 심한 특성이 있을까요?\n",
    "- 무의미한 특성이 존재하나요?\n",
    "- Numerical로 되어있지만, Categorical로 고려할만한 특성이 있을까요?\n",
    "- Categorical 특성중에 순서가 존재하는 특성이 있을까요?\n",
    "- 기존 특성을 이용해 추가적으로 생성할 수 있는 특성이 있을까요?"
   ]
  },
  {
   "cell_type": "code",
   "execution_count": null,
   "metadata": {},
   "outputs": [],
   "source": []
  }
 ],
 "metadata": {
  "kernelspec": {
   "display_name": "Python 3",
   "language": "python",
   "name": "python3"
  },
  "language_info": {
   "codemirror_mode": {
    "name": "ipython",
    "version": 3
   },
   "file_extension": ".py",
   "mimetype": "text/x-python",
   "name": "python",
   "nbconvert_exporter": "python",
   "pygments_lexer": "ipython3",
   "version": "3.7.6"
  }
 },
 "nbformat": 4,
 "nbformat_minor": 4
}
