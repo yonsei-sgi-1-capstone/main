{
 "cells": [
  {
   "cell_type": "code",
   "execution_count": null,
   "metadata": {},
   "outputs": [],
   "source": [
    "import pandas as pd"
   ]
  },
  {
   "cell_type": "code",
   "execution_count": null,
   "metadata": {},
   "outputs": [],
   "source": [
    "#TODO 데이터의 경로를 입력해주세요\n",
    "df = pd.read_csv(\"\")"
   ]
  },
  {
   "cell_type": "markdown",
   "metadata": {},
   "source": [
    "## 1. 데이터 훑어 보기"
   ]
  },
  {
   "cell_type": "markdown",
   "metadata": {},
   "source": [
    "### 시나리오\n",
    "`TODO이곳에 시나리오를 써주세요`\n",
    "\n",
    "### 특성 설명\n",
    "\n",
    "`TODO각각의 특성에 대한 설명을 써주세요`"
   ]
  },
  {
   "cell_type": "code",
   "execution_count": null,
   "metadata": {},
   "outputs": [],
   "source": [
    "pd.set_option('display.max_columns', None)\n",
    "\n",
    "df.head()"
   ]
  },
  {
   "cell_type": "code",
   "execution_count": null,
   "metadata": {},
   "outputs": [],
   "source": [
    "df.info()"
   ]
  },
  {
   "cell_type": "code",
   "execution_count": null,
   "metadata": {},
   "outputs": [],
   "source": [
    "df.describe()"
   ]
  },
  {
   "cell_type": "code",
   "execution_count": null,
   "metadata": {},
   "outputs": [],
   "source": [
    "for col in df.columns:\n",
    "    if df[col].dtype==\"object\":\n",
    "        print(\"=\"*50)\n",
    "        print(df[col].value_counts())\n",
    "        print(\"=\"*50)\n",
    "        print(\"\\n\")"
   ]
  },
  {
   "cell_type": "markdown",
   "metadata": {},
   "source": [
    "## 2. 시각화"
   ]
  },
  {
   "cell_type": "code",
   "execution_count": null,
   "metadata": {},
   "outputs": [],
   "source": [
    "import seaborn as sns\n",
    "import matplotlib.pyplot as plt\n"
   ]
  },
  {
   "cell_type": "code",
   "execution_count": null,
   "metadata": {},
   "outputs": [],
   "source": [
    "%matplotlib inline\n",
    "import matplotlib.pyplot as plt\n",
    "df.hist(bins=50, figsize=(20,15))\n",
    "plt.show()"
   ]
  },
  {
   "cell_type": "markdown",
   "metadata": {},
   "source": [
    "## 타겟 값의 비율 확인"
   ]
  },
  {
   "cell_type": "code",
   "execution_count": null,
   "metadata": {},
   "outputs": [],
   "source": [
    "#TODO\n",
    "import seaborn as sns\n",
    "target_col = \"\"\n",
    "print(df[target_col].value_counts())\n",
    "ax = sns.countplot(x=target_col, data=df)"
   ]
  },
  {
   "cell_type": "markdown",
   "metadata": {},
   "source": [
    "## 전체 카테고리컬 속성에 대한 비율확인"
   ]
  },
  {
   "cell_type": "code",
   "execution_count": null,
   "metadata": {
    "scrolled": false
   },
   "outputs": [],
   "source": [
    "cnt = 0\n",
    "\n",
    "fig, axes = plt.subplots(nrows=3, ncols=2,figsize=(16,9))\n",
    "for col in df.columns:\n",
    "    if df[col].dtype==\"object\":\n",
    "        ax = sns.countplot(x=col, data=df, ax=axes[cnt%3,cnt%2])\n",
    "        cnt+=1\n",
    "fig.tight_layout()"
   ]
  },
  {
   "cell_type": "markdown",
   "metadata": {},
   "source": [
    "## Numerical 속성에 대한 이상치 확인"
   ]
  },
  {
   "cell_type": "code",
   "execution_count": null,
   "metadata": {
    "scrolled": false
   },
   "outputs": [],
   "source": [
    "cnt = 0\n",
    "\n",
    "fig, axes = plt.subplots(nrows=5, ncols=3,figsize=(16,15))\n",
    "for col in df.columns:\n",
    "    if df[col].dtype==\"int64\" or df[col].dtype==\"float64\" :\n",
    "        df[col].plot(kind='box', ax=axes[cnt%5,cnt%3])\n",
    "        cnt+=1\n",
    "fig.tight_layout()\n",
    "\n",
    "\n",
    "\n"
   ]
  },
  {
   "cell_type": "markdown",
   "metadata": {},
   "source": [
    "## 타겟 값에 따른 Numerical 속성들의 평균 비교"
   ]
  },
  {
   "cell_type": "code",
   "execution_count": null,
   "metadata": {
    "scrolled": false
   },
   "outputs": [],
   "source": [
    "#TODO\n",
    "cnt = 0\n",
    "target_col = \"\"\n",
    "for col in df.columns:\n",
    "    if df[col].dtype!=\"object\" and col != 'AF':\n",
    "        plt.figure(cnt)\n",
    "        df.groupby([target_col])[col].mean().plot(kind='bar', title=col)\n",
    "        cnt+=1\n"
   ]
  },
  {
   "cell_type": "markdown",
   "metadata": {},
   "source": [
    "## 계약해지 여부에 따른 Categorical 속성들 비교"
   ]
  },
  {
   "cell_type": "code",
   "execution_count": null,
   "metadata": {},
   "outputs": [],
   "source": [
    "\n",
    "cnt = 0\n",
    "target_col = \"\"\n",
    "\n",
    "for col in df.columns:\n",
    "    if df[col].dtype==\"object\":\n",
    "        plt.figure(cnt)\n",
    "        df.groupby([target_col,col])[col].count().unstack().plot(kind='bar', title=col)\n",
    "        cnt+=1\n",
    "    "
   ]
  },
  {
   "cell_type": "markdown",
   "metadata": {},
   "source": [
    "## 타겟 값과 관련된 상관관계 구하기"
   ]
  },
  {
   "cell_type": "code",
   "execution_count": null,
   "metadata": {},
   "outputs": [],
   "source": [
    "import numpy as np\n",
    "\n",
    "corr = df.corr()\n",
    "sns.heatmap(corr)\n",
    "plt.show()"
   ]
  },
  {
   "cell_type": "markdown",
   "metadata": {},
   "source": [
    "## 체크리스트"
   ]
  },
  {
   "cell_type": "markdown",
   "metadata": {},
   "source": [
    "- 전체 데이터(row)는 몇 개인가요?\n",
    "- 전체 특성(column)은 몇 개인가요?\n",
    "- Target(Label) 특성의 비율은 어떻게 되나요?\n",
    "- Categorical 특성은 어떻게 되나요?\n",
    "- Numeircal 특성은 어떻게 되나요?\n",
    "- 결측값이 존재하나요? 존재한다면, 존재하는 특성은 몇개나 될까요?\n",
    "- 이상치(outlier)가 심한 특성이 있을까요?\n",
    "- 무의미한 특성이 존재하나요?\n",
    "- Numerical로 되어있지만, Categorical로 고려할만한 특성이 있을까요?\n",
    "- Categorical 특성중에 순서가 존재하는 특성이 있을까요?\n",
    "- 기존 특성을 이용해 추가적으로 생성할 수 있는 특성이 있을까요?"
   ]
  },
  {
   "cell_type": "code",
   "execution_count": null,
   "metadata": {},
   "outputs": [],
   "source": []
  }
 ],
 "metadata": {
  "kernelspec": {
   "display_name": "Python 3",
   "language": "python",
   "name": "python3"
  },
  "language_info": {
   "codemirror_mode": {
    "name": "ipython",
    "version": 3
   },
   "file_extension": ".py",
   "mimetype": "text/x-python",
   "name": "python",
   "nbconvert_exporter": "python",
   "pygments_lexer": "ipython3",
   "version": "3.7.6"
  }
 },
 "nbformat": 4,
 "nbformat_minor": 4
}
