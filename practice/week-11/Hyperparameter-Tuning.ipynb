{
 "cells": [
  {
   "cell_type": "markdown",
   "metadata": {},
   "source": [
    "# 그리드서치를 통한 하이퍼파라미터를 최적화"
   ]
  },
  {
   "cell_type": "code",
   "execution_count": null,
   "metadata": {},
   "outputs": [],
   "source": [
    "from warnings import filterwarnings\n",
    "filterwarnings('ignore')"
   ]
  },
  {
   "cell_type": "code",
   "execution_count": null,
   "metadata": {},
   "outputs": [],
   "source": [
    "import pandas as pd\n",
    "pd.set_option('mode.chained_assignment',  None) \n",
    "df = pd.read_csv(\"data/credit_card.csv\")\n",
    "df = df.drop(\"CLIENTNUM\", axis=1)\n"
   ]
  },
  {
   "cell_type": "markdown",
   "metadata": {},
   "source": [
    "## 계층적 샘플링을 통해 타겟값(y)의 비율을 유지"
   ]
  },
  {
   "cell_type": "code",
   "execution_count": null,
   "metadata": {},
   "outputs": [],
   "source": [
    "from sklearn.model_selection import train_test_split\n",
    "\n",
    "train, test = train_test_split(df, test_size=0.2, random_state=42,stratify=df['Attrition_Flag'])\n",
    "\n",
    "class_a, class_b = train['Attrition_Flag'].value_counts()\n",
    "print(\"class_a의 수:\",class_a, \"class_b의 수:\",class_b)\n",
    "print(\"비율:\",class_a/(class_a+class_b))\n",
    "class_a, class_b = test['Attrition_Flag'].value_counts()\n",
    "print(\"class_a의 수:\",class_a, \"class_b의 수:\",class_b)\n",
    "print(\"비율:\",class_a/(class_a+class_b))"
   ]
  },
  {
   "cell_type": "code",
   "execution_count": null,
   "metadata": {},
   "outputs": [],
   "source": [
    "from sklearn import preprocessing\n",
    "\n",
    "encoders = {}\n",
    "\n",
    "for col in train.select_dtypes(include = \"object\"):\n",
    "\n",
    "    encoders[col] = preprocessing.LabelEncoder()\n",
    "    train[col] = encoders[col].fit_transform(train[col])\n",
    "    \n",
    "for col in test.select_dtypes(include = \"object\"):\n",
    "    le_dict = dict(zip(encoders[col].classes_, encoders[col].transform(encoders[col].classes_)))\n",
    "    #훈련데이터에는 없지만, 테스트데이터에는 존재하는 값에는 -1을 입력\n",
    "    test[col] = test[col].apply(lambda x: le_dict.get(x, -1))"
   ]
  },
  {
   "cell_type": "code",
   "execution_count": null,
   "metadata": {},
   "outputs": [],
   "source": [
    "train_X, train_y = train.drop('Attrition_Flag',axis=1), train['Attrition_Flag']\n",
    "test_X, test_y = test.drop('Attrition_Flag',axis=1), test['Attrition_Flag']"
   ]
  },
  {
   "cell_type": "markdown",
   "metadata": {},
   "source": [
    "## 사용가능한 모든 Classifier 테스트"
   ]
  },
  {
   "cell_type": "code",
   "execution_count": null,
   "metadata": {},
   "outputs": [],
   "source": [
    "from sklearn.utils import all_estimators\n",
    "\n",
    "estimators = all_estimators(type_filter='classifier')\n",
    "all_clf = []\n",
    "for name, Classifier in estimators:\n",
    "    try:\n",
    "        clf = Classifier()\n",
    "        all_clf.append(clf)\n",
    "        print(name)\n",
    "    except:\n",
    "        pass"
   ]
  },
  {
   "cell_type": "code",
   "execution_count": null,
   "metadata": {
    "scrolled": true
   },
   "outputs": [],
   "source": [
    "train_X.shape"
   ]
  },
  {
   "cell_type": "code",
   "execution_count": null,
   "metadata": {},
   "outputs": [],
   "source": [
    "train_X"
   ]
  },
  {
   "cell_type": "code",
   "execution_count": null,
   "metadata": {},
   "outputs": [],
   "source": [
    "train_y"
   ]
  },
  {
   "cell_type": "code",
   "execution_count": null,
   "metadata": {},
   "outputs": [],
   "source": [
    "train_X"
   ]
  },
  {
   "cell_type": "code",
   "execution_count": null,
   "metadata": {
    "scrolled": false
   },
   "outputs": [],
   "source": [
    "from sklearn.model_selection import StratifiedKFold, KFold\n",
    "\n",
    "\n",
    "results = []\n",
    "SUPER_SLOW_MODELS = [\"SVC\",\"NuSVC\",\"GaussianProcessClassifier\",\"LabelPropagation\",\"LabelSpreading\"]\n",
    "for clf in all_clf:\n",
    "    clf_name = clf.__class__.__name__ \n",
    "    if clf_name not in SUPER_SLOW_MODELS:\n",
    "        try:\n",
    "            #y값의 비율을 유지한 상태로 Kfold를 하기 위함\n",
    "            skf = StratifiedKFold(n_splits=5)\n",
    "            scores = cross_val_score(clf, train_X, train_y, scoring = \"f1\", cv=skf)\n",
    "\n",
    "            if not scores.mean():\n",
    "                break\n",
    "            print(\"모델명:\",clf.__class__.__name__)\n",
    "            print(\"각 Fold의 F1 Score:\",scores)\n",
    "            print(\"평균 F1 Score:\",scores.mean())\n",
    "            print(\"=\"*60)\n",
    "            result = {\n",
    "                \"Name\":clf.__class__.__name__, \n",
    "                \"Score\":scores.mean()\n",
    "            }\n",
    "            results.append(result)\n",
    "        except Exception as e:\n",
    "            print(e)\n",
    "            pass\n",
    "    \n",
    "    "
   ]
  },
  {
   "cell_type": "code",
   "execution_count": null,
   "metadata": {},
   "outputs": [],
   "source": [
    "sorted(results, key=lambda kv : kv['Score'], reverse=True)"
   ]
  },
  {
   "cell_type": "markdown",
   "metadata": {},
   "source": [
    "## 가장 좋은 모델의 하이퍼파라미터 튜닝"
   ]
  },
  {
   "cell_type": "code",
   "execution_count": null,
   "metadata": {},
   "outputs": [],
   "source": [
    "from sklearn.ensemble import HistGradientBoostingClassifier\n"
   ]
  },
  {
   "cell_type": "code",
   "execution_count": null,
   "metadata": {},
   "outputs": [],
   "source": [
    "from sklearn.model_selection import GridSearchCV\n",
    "\n",
    "model = HistGradientBoostingClassifier()\n",
    "## 파라미터 종류 확인\n",
    "print(model.get_params())"
   ]
  },
  {
   "cell_type": "code",
   "execution_count": null,
   "metadata": {},
   "outputs": [],
   "source": [
    "\n",
    "param_grid = {\n",
    "    'learning_rate': (0.01, 0.1, 0.2, 0.4,0.5,0.6, 1, 10),\n",
    "    'max_leaf_nodes': (3, 10, 20, 30, 40, 50)}\n",
    "\n",
    "skf = StratifiedKFold(n_splits=5)\n",
    "\n",
    "model_grid_search = GridSearchCV(model, scoring=\"f1\",param_grid=param_grid,n_jobs=-1, cv=skf)\n",
    "model_grid_search.fit(train_X, train_y)"
   ]
  },
  {
   "cell_type": "code",
   "execution_count": null,
   "metadata": {},
   "outputs": [],
   "source": [
    "model_grid_search.best_params_"
   ]
  },
  {
   "cell_type": "code",
   "execution_count": null,
   "metadata": {},
   "outputs": [],
   "source": [
    "model_grid_search.best_estimator_"
   ]
  },
  {
   "cell_type": "code",
   "execution_count": null,
   "metadata": {},
   "outputs": [],
   "source": [
    "accuracy = model_grid_search.score(test_X, test_y)\n",
    "print(\n",
    "    f\"The test f1 score of the grid-searched pipeline is: \"\n",
    "    f\"{accuracy:.4f}\"\n",
    ")"
   ]
  },
  {
   "cell_type": "code",
   "execution_count": null,
   "metadata": {},
   "outputs": [],
   "source": []
  }
 ],
 "metadata": {
  "kernelspec": {
   "display_name": "Python 3",
   "language": "python",
   "name": "python3"
  },
  "language_info": {
   "codemirror_mode": {
    "name": "ipython",
    "version": 3
   },
   "file_extension": ".py",
   "mimetype": "text/x-python",
   "name": "python",
   "nbconvert_exporter": "python",
   "pygments_lexer": "ipython3",
   "version": "3.7.6"
  }
 },
 "nbformat": 4,
 "nbformat_minor": 4
}
